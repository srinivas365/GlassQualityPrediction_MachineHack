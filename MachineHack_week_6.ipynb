{
  "nbformat": 4,
  "nbformat_minor": 0,
  "metadata": {
    "colab": {
      "name": "MachineHack-week-6.ipynb",
      "provenance": [],
      "authorship_tag": "ABX9TyOAcsfFtDk46X0ukBNw+z1k",
      "include_colab_link": true
    },
    "kernelspec": {
      "name": "python3",
      "display_name": "Python 3"
    }
  },
  "cells": [
    {
      "cell_type": "markdown",
      "metadata": {
        "id": "view-in-github",
        "colab_type": "text"
      },
      "source": [
        "<a href=\"https://colab.research.google.com/github/srinivas365/GlassQualityPrediction_MachineHack/blob/master/MachineHack_week_6.ipynb\" target=\"_parent\"><img src=\"https://colab.research.google.com/assets/colab-badge.svg\" alt=\"Open In Colab\"/></a>"
      ]
    },
    {
      "cell_type": "markdown",
      "metadata": {
        "id": "GIT9hRQsWOzj",
        "colab_type": "text"
      },
      "source": [
        "# Glass Quality Prediction : Weekend Hackathon #6\n",
        "# Leader Board Rank - 127\n",
        "\n",
        "We humans have been using glass since ancient times for a variety of applications from building construction to making decorative objects. With technology, glass and its applications have evolved, and today, we have different varieties of glass used for very different purposes from a computer monitor to a bulletproof car window depending on the grade of the glass produced. And not all grades or varieties are manufactured the same way. In this data science challenge, you as a data scientist must use the given data to predict the grade of the glass produced based on the given factors.\n",
        "\n",
        "Given are 15 distinguishing factors that can provide insight into what grade of the glass is being produced. Your objective as a data scientist is to build a machine learning model that can predict the grade of glass based on the given factors.\n",
        "\n",
        "Data Description:-\n",
        "The unzipped folder will have the following files.\n",
        "\n",
        "Train.csv – 1358 observations.\n",
        "Test.csv – 583 observations.\n",
        "Sample Submission – Sample format for the submission.\n",
        "Target Variable: class"
      ]
    },
    {
      "cell_type": "code",
      "metadata": {
        "id": "h7KV93vYWb2D",
        "colab_type": "code",
        "outputId": "ed568ef2-f86c-4dbd-8165-f13f21ec7fa1",
        "colab": {
          "base_uri": "https://localhost:8080/",
          "height": 71
        }
      },
      "source": [
        "import numpy as np\n",
        "import pandas as pd\n",
        "import matplotlib.pyplot as plt\n",
        "import seaborn as sns"
      ],
      "execution_count": 0,
      "outputs": [
        {
          "output_type": "stream",
          "text": [
            "/usr/local/lib/python3.6/dist-packages/statsmodels/tools/_testing.py:19: FutureWarning: pandas.util.testing is deprecated. Use the functions in the public API at pandas.testing instead.\n",
            "  import pandas.util.testing as tm\n"
          ],
          "name": "stderr"
        }
      ]
    },
    {
      "cell_type": "code",
      "metadata": {
        "id": "9bCzkIqVWzVN",
        "colab_type": "code",
        "outputId": "cefe5f0f-503d-4657-9682-f50730021079",
        "colab": {
          "base_uri": "https://localhost:8080/",
          "height": 224
        }
      },
      "source": [
        "train=pd.read_csv('Train.csv')\n",
        "train.head()"
      ],
      "execution_count": 0,
      "outputs": [
        {
          "output_type": "execute_result",
          "data": {
            "text/html": [
              "<div>\n",
              "<style scoped>\n",
              "    .dataframe tbody tr th:only-of-type {\n",
              "        vertical-align: middle;\n",
              "    }\n",
              "\n",
              "    .dataframe tbody tr th {\n",
              "        vertical-align: top;\n",
              "    }\n",
              "\n",
              "    .dataframe thead th {\n",
              "        text-align: right;\n",
              "    }\n",
              "</style>\n",
              "<table border=\"1\" class=\"dataframe\">\n",
              "  <thead>\n",
              "    <tr style=\"text-align: right;\">\n",
              "      <th></th>\n",
              "      <th>grade_A_Component_1</th>\n",
              "      <th>grade_A_Component_2</th>\n",
              "      <th>max_luminosity</th>\n",
              "      <th>thickness</th>\n",
              "      <th>xmin</th>\n",
              "      <th>xmax</th>\n",
              "      <th>ymin</th>\n",
              "      <th>ymax</th>\n",
              "      <th>pixel_area</th>\n",
              "      <th>log_area</th>\n",
              "      <th>x_component_1</th>\n",
              "      <th>x_component_2</th>\n",
              "      <th>x_component_3</th>\n",
              "      <th>x_component_4</th>\n",
              "      <th>x_component_5</th>\n",
              "      <th>class</th>\n",
              "    </tr>\n",
              "  </thead>\n",
              "  <tbody>\n",
              "    <tr>\n",
              "      <th>0</th>\n",
              "      <td>0</td>\n",
              "      <td>1</td>\n",
              "      <td>150</td>\n",
              "      <td>36</td>\n",
              "      <td>144</td>\n",
              "      <td>172</td>\n",
              "      <td>947225</td>\n",
              "      <td>947332</td>\n",
              "      <td>439</td>\n",
              "      <td>439.099273</td>\n",
              "      <td>0</td>\n",
              "      <td>0</td>\n",
              "      <td>1</td>\n",
              "      <td>0</td>\n",
              "      <td>0</td>\n",
              "      <td>1</td>\n",
              "    </tr>\n",
              "    <tr>\n",
              "      <th>1</th>\n",
              "      <td>1</td>\n",
              "      <td>0</td>\n",
              "      <td>134</td>\n",
              "      <td>55</td>\n",
              "      <td>1144</td>\n",
              "      <td>1152</td>\n",
              "      <td>2379058</td>\n",
              "      <td>2379624</td>\n",
              "      <td>329</td>\n",
              "      <td>329.205616</td>\n",
              "      <td>1</td>\n",
              "      <td>0</td>\n",
              "      <td>0</td>\n",
              "      <td>0</td>\n",
              "      <td>0</td>\n",
              "      <td>1</td>\n",
              "    </tr>\n",
              "    <tr>\n",
              "      <th>2</th>\n",
              "      <td>1</td>\n",
              "      <td>0</td>\n",
              "      <td>135</td>\n",
              "      <td>65</td>\n",
              "      <td>950</td>\n",
              "      <td>974</td>\n",
              "      <td>1038442</td>\n",
              "      <td>1036754</td>\n",
              "      <td>300</td>\n",
              "      <td>300.120598</td>\n",
              "      <td>0</td>\n",
              "      <td>0</td>\n",
              "      <td>0</td>\n",
              "      <td>0</td>\n",
              "      <td>0</td>\n",
              "      <td>2</td>\n",
              "    </tr>\n",
              "    <tr>\n",
              "      <th>3</th>\n",
              "      <td>0</td>\n",
              "      <td>1</td>\n",
              "      <td>123</td>\n",
              "      <td>35</td>\n",
              "      <td>41</td>\n",
              "      <td>220</td>\n",
              "      <td>1705580</td>\n",
              "      <td>1705604</td>\n",
              "      <td>6803</td>\n",
              "      <td>6803.778622</td>\n",
              "      <td>0</td>\n",
              "      <td>0</td>\n",
              "      <td>1</td>\n",
              "      <td>0</td>\n",
              "      <td>0</td>\n",
              "      <td>1</td>\n",
              "    </tr>\n",
              "    <tr>\n",
              "      <th>4</th>\n",
              "      <td>1</td>\n",
              "      <td>0</td>\n",
              "      <td>138</td>\n",
              "      <td>69</td>\n",
              "      <td>462</td>\n",
              "      <td>466</td>\n",
              "      <td>1088124</td>\n",
              "      <td>1086579</td>\n",
              "      <td>251</td>\n",
              "      <td>251.401943</td>\n",
              "      <td>0</td>\n",
              "      <td>0</td>\n",
              "      <td>0</td>\n",
              "      <td>0</td>\n",
              "      <td>0</td>\n",
              "      <td>2</td>\n",
              "    </tr>\n",
              "  </tbody>\n",
              "</table>\n",
              "</div>"
            ],
            "text/plain": [
              "   grade_A_Component_1  grade_A_Component_2  ...  x_component_5  class\n",
              "0                    0                    1  ...              0      1\n",
              "1                    1                    0  ...              0      1\n",
              "2                    1                    0  ...              0      2\n",
              "3                    0                    1  ...              0      1\n",
              "4                    1                    0  ...              0      2\n",
              "\n",
              "[5 rows x 16 columns]"
            ]
          },
          "metadata": {
            "tags": []
          },
          "execution_count": 2
        }
      ]
    },
    {
      "cell_type": "code",
      "metadata": {
        "id": "GyNGFzutW5ng",
        "colab_type": "code",
        "outputId": "44c21bdf-6600-4e5b-d635-39712b04b2e9",
        "colab": {
          "base_uri": "https://localhost:8080/",
          "height": 224
        }
      },
      "source": [
        "test=pd.read_csv('Test.csv')\n",
        "test.head()"
      ],
      "execution_count": 0,
      "outputs": [
        {
          "output_type": "execute_result",
          "data": {
            "text/html": [
              "<div>\n",
              "<style scoped>\n",
              "    .dataframe tbody tr th:only-of-type {\n",
              "        vertical-align: middle;\n",
              "    }\n",
              "\n",
              "    .dataframe tbody tr th {\n",
              "        vertical-align: top;\n",
              "    }\n",
              "\n",
              "    .dataframe thead th {\n",
              "        text-align: right;\n",
              "    }\n",
              "</style>\n",
              "<table border=\"1\" class=\"dataframe\">\n",
              "  <thead>\n",
              "    <tr style=\"text-align: right;\">\n",
              "      <th></th>\n",
              "      <th>grade_A_Component_1</th>\n",
              "      <th>grade_A_Component_2</th>\n",
              "      <th>max_luminosity</th>\n",
              "      <th>thickness</th>\n",
              "      <th>xmin</th>\n",
              "      <th>xmax</th>\n",
              "      <th>ymin</th>\n",
              "      <th>ymax</th>\n",
              "      <th>pixel_area</th>\n",
              "      <th>log_area</th>\n",
              "      <th>x_component_1</th>\n",
              "      <th>x_component_2</th>\n",
              "      <th>x_component_3</th>\n",
              "      <th>x_component_4</th>\n",
              "      <th>x_component_5</th>\n",
              "    </tr>\n",
              "  </thead>\n",
              "  <tbody>\n",
              "    <tr>\n",
              "      <th>0</th>\n",
              "      <td>1</td>\n",
              "      <td>0</td>\n",
              "      <td>123</td>\n",
              "      <td>65</td>\n",
              "      <td>33</td>\n",
              "      <td>54</td>\n",
              "      <td>1646439</td>\n",
              "      <td>1646893</td>\n",
              "      <td>632</td>\n",
              "      <td>632.391749</td>\n",
              "      <td>0</td>\n",
              "      <td>1</td>\n",
              "      <td>0</td>\n",
              "      <td>0</td>\n",
              "      <td>0</td>\n",
              "    </tr>\n",
              "    <tr>\n",
              "      <th>1</th>\n",
              "      <td>0</td>\n",
              "      <td>1</td>\n",
              "      <td>158</td>\n",
              "      <td>99</td>\n",
              "      <td>125</td>\n",
              "      <td>132</td>\n",
              "      <td>189874</td>\n",
              "      <td>189529</td>\n",
              "      <td>421</td>\n",
              "      <td>421.928609</td>\n",
              "      <td>0</td>\n",
              "      <td>0</td>\n",
              "      <td>0</td>\n",
              "      <td>0</td>\n",
              "      <td>0</td>\n",
              "    </tr>\n",
              "    <tr>\n",
              "      <th>2</th>\n",
              "      <td>0</td>\n",
              "      <td>1</td>\n",
              "      <td>120</td>\n",
              "      <td>35</td>\n",
              "      <td>64</td>\n",
              "      <td>75</td>\n",
              "      <td>12986873</td>\n",
              "      <td>12986862</td>\n",
              "      <td>272</td>\n",
              "      <td>272.212214</td>\n",
              "      <td>1</td>\n",
              "      <td>0</td>\n",
              "      <td>0</td>\n",
              "      <td>0</td>\n",
              "      <td>0</td>\n",
              "    </tr>\n",
              "    <tr>\n",
              "      <th>3</th>\n",
              "      <td>0</td>\n",
              "      <td>1</td>\n",
              "      <td>130</td>\n",
              "      <td>39</td>\n",
              "      <td>57</td>\n",
              "      <td>177</td>\n",
              "      <td>309634</td>\n",
              "      <td>310824</td>\n",
              "      <td>3312</td>\n",
              "      <td>3312.310581</td>\n",
              "      <td>0</td>\n",
              "      <td>0</td>\n",
              "      <td>1</td>\n",
              "      <td>0</td>\n",
              "      <td>0</td>\n",
              "    </tr>\n",
              "    <tr>\n",
              "      <th>4</th>\n",
              "      <td>1</td>\n",
              "      <td>0</td>\n",
              "      <td>142</td>\n",
              "      <td>75</td>\n",
              "      <td>23</td>\n",
              "      <td>79</td>\n",
              "      <td>5368307</td>\n",
              "      <td>5367467</td>\n",
              "      <td>862</td>\n",
              "      <td>862.499179</td>\n",
              "      <td>0</td>\n",
              "      <td>0</td>\n",
              "      <td>0</td>\n",
              "      <td>0</td>\n",
              "      <td>0</td>\n",
              "    </tr>\n",
              "  </tbody>\n",
              "</table>\n",
              "</div>"
            ],
            "text/plain": [
              "   grade_A_Component_1  grade_A_Component_2  ...  x_component_4  x_component_5\n",
              "0                    1                    0  ...              0              0\n",
              "1                    0                    1  ...              0              0\n",
              "2                    0                    1  ...              0              0\n",
              "3                    0                    1  ...              0              0\n",
              "4                    1                    0  ...              0              0\n",
              "\n",
              "[5 rows x 15 columns]"
            ]
          },
          "metadata": {
            "tags": []
          },
          "execution_count": 3
        }
      ]
    },
    {
      "cell_type": "code",
      "metadata": {
        "id": "M-nGUO7NdCdZ",
        "colab_type": "code",
        "outputId": "f0f58e0a-61e4-48a9-86b9-9e85e67de989",
        "colab": {
          "base_uri": "https://localhost:8080/",
          "height": 34
        }
      },
      "source": [
        "test.shape"
      ],
      "execution_count": 0,
      "outputs": [
        {
          "output_type": "execute_result",
          "data": {
            "text/plain": [
              "(583, 15)"
            ]
          },
          "metadata": {
            "tags": []
          },
          "execution_count": 38
        }
      ]
    },
    {
      "cell_type": "code",
      "metadata": {
        "id": "fZT3gXfwW9Su",
        "colab_type": "code",
        "outputId": "5218f246-ca4f-4c11-d204-bd0fd415904d",
        "colab": {
          "base_uri": "https://localhost:8080/",
          "height": 204
        }
      },
      "source": [
        "sub=pd.read_excel('Sample_Submission.xlsx')\n",
        "sub.head()"
      ],
      "execution_count": 0,
      "outputs": [
        {
          "output_type": "execute_result",
          "data": {
            "text/html": [
              "<div>\n",
              "<style scoped>\n",
              "    .dataframe tbody tr th:only-of-type {\n",
              "        vertical-align: middle;\n",
              "    }\n",
              "\n",
              "    .dataframe tbody tr th {\n",
              "        vertical-align: top;\n",
              "    }\n",
              "\n",
              "    .dataframe thead th {\n",
              "        text-align: right;\n",
              "    }\n",
              "</style>\n",
              "<table border=\"1\" class=\"dataframe\">\n",
              "  <thead>\n",
              "    <tr style=\"text-align: right;\">\n",
              "      <th></th>\n",
              "      <th>1</th>\n",
              "      <th>2</th>\n",
              "    </tr>\n",
              "  </thead>\n",
              "  <tbody>\n",
              "    <tr>\n",
              "      <th>0</th>\n",
              "      <td>0.600493</td>\n",
              "      <td>0.399507</td>\n",
              "    </tr>\n",
              "    <tr>\n",
              "      <th>1</th>\n",
              "      <td>0.532010</td>\n",
              "      <td>0.467990</td>\n",
              "    </tr>\n",
              "    <tr>\n",
              "      <th>2</th>\n",
              "      <td>0.892149</td>\n",
              "      <td>0.107851</td>\n",
              "    </tr>\n",
              "    <tr>\n",
              "      <th>3</th>\n",
              "      <td>0.694834</td>\n",
              "      <td>0.305166</td>\n",
              "    </tr>\n",
              "    <tr>\n",
              "      <th>4</th>\n",
              "      <td>0.740557</td>\n",
              "      <td>0.259443</td>\n",
              "    </tr>\n",
              "  </tbody>\n",
              "</table>\n",
              "</div>"
            ],
            "text/plain": [
              "          1         2\n",
              "0  0.600493  0.399507\n",
              "1  0.532010  0.467990\n",
              "2  0.892149  0.107851\n",
              "3  0.694834  0.305166\n",
              "4  0.740557  0.259443"
            ]
          },
          "metadata": {
            "tags": []
          },
          "execution_count": 4
        }
      ]
    },
    {
      "cell_type": "markdown",
      "metadata": {
        "id": "M8dpMEe8XNYG",
        "colab_type": "text"
      },
      "source": [
        "# Data Understanding"
      ]
    },
    {
      "cell_type": "code",
      "metadata": {
        "id": "VBEt9pJLXIGw",
        "colab_type": "code",
        "outputId": "5394e598-03d3-43c3-8c7c-64e4e4dc0f1a",
        "colab": {
          "base_uri": "https://localhost:8080/",
          "height": 34
        }
      },
      "source": [
        "train.shape"
      ],
      "execution_count": 0,
      "outputs": [
        {
          "output_type": "execute_result",
          "data": {
            "text/plain": [
              "(1358, 16)"
            ]
          },
          "metadata": {
            "tags": []
          },
          "execution_count": 7
        }
      ]
    },
    {
      "cell_type": "code",
      "metadata": {
        "id": "nP_MVWwQXQZj",
        "colab_type": "code",
        "outputId": "06114f33-9ae7-4617-a815-d29c573ca6a5",
        "colab": {
          "base_uri": "https://localhost:8080/",
          "height": 102
        }
      },
      "source": [
        "train.columns"
      ],
      "execution_count": 0,
      "outputs": [
        {
          "output_type": "execute_result",
          "data": {
            "text/plain": [
              "Index(['grade_A_Component_1', 'grade_A_Component_2', 'max_luminosity',\n",
              "       'thickness', 'xmin', 'xmax', 'ymin', 'ymax', 'pixel_area', 'log_area',\n",
              "       'x_component_1', 'x_component_2', 'x_component_3', 'x_component_4',\n",
              "       'x_component_5', 'class'],\n",
              "      dtype='object')"
            ]
          },
          "metadata": {
            "tags": []
          },
          "execution_count": 8
        }
      ]
    },
    {
      "cell_type": "code",
      "metadata": {
        "id": "RsIwxiTTXRf3",
        "colab_type": "code",
        "outputId": "6676354e-270b-4daa-85a9-1e47f8975add",
        "colab": {
          "base_uri": "https://localhost:8080/",
          "height": 306
        }
      },
      "source": [
        "train.isnull().sum()"
      ],
      "execution_count": 0,
      "outputs": [
        {
          "output_type": "execute_result",
          "data": {
            "text/plain": [
              "grade_A_Component_1    0\n",
              "grade_A_Component_2    0\n",
              "max_luminosity         0\n",
              "thickness              0\n",
              "xmin                   0\n",
              "xmax                   0\n",
              "ymin                   0\n",
              "ymax                   0\n",
              "pixel_area             0\n",
              "log_area               0\n",
              "x_component_1          0\n",
              "x_component_2          0\n",
              "x_component_3          0\n",
              "x_component_4          0\n",
              "x_component_5          0\n",
              "class                  0\n",
              "dtype: int64"
            ]
          },
          "metadata": {
            "tags": []
          },
          "execution_count": 9
        }
      ]
    },
    {
      "cell_type": "code",
      "metadata": {
        "id": "DssNBNpMXoD3",
        "colab_type": "code",
        "outputId": "19f6f7e5-b8b3-43f6-bd62-c56e3010150c",
        "colab": {
          "base_uri": "https://localhost:8080/",
          "height": 317
        }
      },
      "source": [
        "train.describe()"
      ],
      "execution_count": 0,
      "outputs": [
        {
          "output_type": "execute_result",
          "data": {
            "text/html": [
              "<div>\n",
              "<style scoped>\n",
              "    .dataframe tbody tr th:only-of-type {\n",
              "        vertical-align: middle;\n",
              "    }\n",
              "\n",
              "    .dataframe tbody tr th {\n",
              "        vertical-align: top;\n",
              "    }\n",
              "\n",
              "    .dataframe thead th {\n",
              "        text-align: right;\n",
              "    }\n",
              "</style>\n",
              "<table border=\"1\" class=\"dataframe\">\n",
              "  <thead>\n",
              "    <tr style=\"text-align: right;\">\n",
              "      <th></th>\n",
              "      <th>grade_A_Component_1</th>\n",
              "      <th>grade_A_Component_2</th>\n",
              "      <th>max_luminosity</th>\n",
              "      <th>thickness</th>\n",
              "      <th>xmin</th>\n",
              "      <th>xmax</th>\n",
              "      <th>ymin</th>\n",
              "      <th>ymax</th>\n",
              "      <th>pixel_area</th>\n",
              "      <th>log_area</th>\n",
              "      <th>x_component_1</th>\n",
              "      <th>x_component_2</th>\n",
              "      <th>x_component_3</th>\n",
              "      <th>x_component_4</th>\n",
              "      <th>x_component_5</th>\n",
              "      <th>class</th>\n",
              "    </tr>\n",
              "  </thead>\n",
              "  <tbody>\n",
              "    <tr>\n",
              "      <th>count</th>\n",
              "      <td>1358.000000</td>\n",
              "      <td>1358.000000</td>\n",
              "      <td>1358.000000</td>\n",
              "      <td>1358.000000</td>\n",
              "      <td>1358.000000</td>\n",
              "      <td>1358.000000</td>\n",
              "      <td>1.358000e+03</td>\n",
              "      <td>1.358000e+03</td>\n",
              "      <td>1358.000000</td>\n",
              "      <td>1358.000000</td>\n",
              "      <td>1358.000000</td>\n",
              "      <td>1358.000000</td>\n",
              "      <td>1358.000000</td>\n",
              "      <td>1358.000000</td>\n",
              "      <td>1358.000000</td>\n",
              "      <td>1358.000000</td>\n",
              "    </tr>\n",
              "    <tr>\n",
              "      <th>mean</th>\n",
              "      <td>0.406480</td>\n",
              "      <td>0.593520</td>\n",
              "      <td>137.893225</td>\n",
              "      <td>78.977909</td>\n",
              "      <td>567.370398</td>\n",
              "      <td>614.032401</td>\n",
              "      <td>1.660107e+06</td>\n",
              "      <td>1.660139e+06</td>\n",
              "      <td>1903.402798</td>\n",
              "      <td>1903.896240</td>\n",
              "      <td>0.081738</td>\n",
              "      <td>0.106038</td>\n",
              "      <td>0.197349</td>\n",
              "      <td>0.035346</td>\n",
              "      <td>0.027982</td>\n",
              "      <td>1.346834</td>\n",
              "    </tr>\n",
              "    <tr>\n",
              "      <th>std</th>\n",
              "      <td>0.491357</td>\n",
              "      <td>0.491357</td>\n",
              "      <td>20.480512</td>\n",
              "      <td>55.324842</td>\n",
              "      <td>522.013094</td>\n",
              "      <td>500.505513</td>\n",
              "      <td>1.778153e+06</td>\n",
              "      <td>1.778177e+06</td>\n",
              "      <td>3839.156721</td>\n",
              "      <td>3839.163241</td>\n",
              "      <td>0.274066</td>\n",
              "      <td>0.308000</td>\n",
              "      <td>0.398145</td>\n",
              "      <td>0.184721</td>\n",
              "      <td>0.164983</td>\n",
              "      <td>0.476138</td>\n",
              "    </tr>\n",
              "    <tr>\n",
              "      <th>min</th>\n",
              "      <td>0.000000</td>\n",
              "      <td>0.000000</td>\n",
              "      <td>71.000000</td>\n",
              "      <td>35.000000</td>\n",
              "      <td>0.000000</td>\n",
              "      <td>4.000000</td>\n",
              "      <td>7.527000e+03</td>\n",
              "      <td>7.453000e+03</td>\n",
              "      <td>3.000000</td>\n",
              "      <td>3.445293</td>\n",
              "      <td>0.000000</td>\n",
              "      <td>0.000000</td>\n",
              "      <td>0.000000</td>\n",
              "      <td>0.000000</td>\n",
              "      <td>0.000000</td>\n",
              "      <td>1.000000</td>\n",
              "    </tr>\n",
              "    <tr>\n",
              "      <th>25%</th>\n",
              "      <td>0.000000</td>\n",
              "      <td>0.000000</td>\n",
              "      <td>127.000000</td>\n",
              "      <td>42.000000</td>\n",
              "      <td>53.000000</td>\n",
              "      <td>192.000000</td>\n",
              "      <td>4.662742e+05</td>\n",
              "      <td>4.666918e+05</td>\n",
              "      <td>234.000000</td>\n",
              "      <td>234.335948</td>\n",
              "      <td>0.000000</td>\n",
              "      <td>0.000000</td>\n",
              "      <td>0.000000</td>\n",
              "      <td>0.000000</td>\n",
              "      <td>0.000000</td>\n",
              "      <td>1.000000</td>\n",
              "    </tr>\n",
              "    <tr>\n",
              "      <th>50%</th>\n",
              "      <td>0.000000</td>\n",
              "      <td>1.000000</td>\n",
              "      <td>137.000000</td>\n",
              "      <td>66.000000</td>\n",
              "      <td>407.500000</td>\n",
              "      <td>457.000000</td>\n",
              "      <td>1.216168e+06</td>\n",
              "      <td>1.214700e+06</td>\n",
              "      <td>346.000000</td>\n",
              "      <td>346.044490</td>\n",
              "      <td>0.000000</td>\n",
              "      <td>0.000000</td>\n",
              "      <td>0.000000</td>\n",
              "      <td>0.000000</td>\n",
              "      <td>0.000000</td>\n",
              "      <td>1.000000</td>\n",
              "    </tr>\n",
              "    <tr>\n",
              "      <th>75%</th>\n",
              "      <td>1.000000</td>\n",
              "      <td>1.000000</td>\n",
              "      <td>146.000000</td>\n",
              "      <td>83.000000</td>\n",
              "      <td>1041.750000</td>\n",
              "      <td>1064.000000</td>\n",
              "      <td>2.210012e+06</td>\n",
              "      <td>2.210076e+06</td>\n",
              "      <td>915.250000</td>\n",
              "      <td>915.367817</td>\n",
              "      <td>0.000000</td>\n",
              "      <td>0.000000</td>\n",
              "      <td>0.000000</td>\n",
              "      <td>0.000000</td>\n",
              "      <td>0.000000</td>\n",
              "      <td>2.000000</td>\n",
              "    </tr>\n",
              "    <tr>\n",
              "      <th>max</th>\n",
              "      <td>1.000000</td>\n",
              "      <td>1.000000</td>\n",
              "      <td>266.000000</td>\n",
              "      <td>305.000000</td>\n",
              "      <td>1692.000000</td>\n",
              "      <td>1717.000000</td>\n",
              "      <td>1.291748e+07</td>\n",
              "      <td>1.291731e+07</td>\n",
              "      <td>37392.000000</td>\n",
              "      <td>37392.672970</td>\n",
              "      <td>1.000000</td>\n",
              "      <td>1.000000</td>\n",
              "      <td>1.000000</td>\n",
              "      <td>1.000000</td>\n",
              "      <td>1.000000</td>\n",
              "      <td>2.000000</td>\n",
              "    </tr>\n",
              "  </tbody>\n",
              "</table>\n",
              "</div>"
            ],
            "text/plain": [
              "       grade_A_Component_1  grade_A_Component_2  ...  x_component_5        class\n",
              "count          1358.000000          1358.000000  ...    1358.000000  1358.000000\n",
              "mean              0.406480             0.593520  ...       0.027982     1.346834\n",
              "std               0.491357             0.491357  ...       0.164983     0.476138\n",
              "min               0.000000             0.000000  ...       0.000000     1.000000\n",
              "25%               0.000000             0.000000  ...       0.000000     1.000000\n",
              "50%               0.000000             1.000000  ...       0.000000     1.000000\n",
              "75%               1.000000             1.000000  ...       0.000000     2.000000\n",
              "max               1.000000             1.000000  ...       1.000000     2.000000\n",
              "\n",
              "[8 rows x 16 columns]"
            ]
          },
          "metadata": {
            "tags": []
          },
          "execution_count": 10
        }
      ]
    },
    {
      "cell_type": "code",
      "metadata": {
        "id": "WiDnJjHpXvuv",
        "colab_type": "code",
        "outputId": "7063beb4-fbf1-4c6a-abd5-d5a558069241",
        "colab": {
          "base_uri": "https://localhost:8080/",
          "height": 646
        }
      },
      "source": [
        "plt.figure(figsize=(12,9))\n",
        "sns.heatmap(train.corr(),annot=True)\n",
        "plt.show()"
      ],
      "execution_count": 0,
      "outputs": [
        {
          "output_type": "display_data",
          "data": {
            "image/png": "[encoded data removed]",
            "text/plain": [
              "<Figure size 864x648 with 2 Axes>"
            ]
          },
          "metadata": {
            "tags": [],
            "needs_background": "light"
          }
        }
      ]
    },
    {
      "cell_type": "code",
      "metadata": {
        "id": "aLyjbU4MYW3K",
        "colab_type": "code",
        "colab": {}
      },
      "source": [
        "def sub_file(filename,preds):\n",
        "    sub_df=pd.DataFrame(preds,columns=['1','2'])\n",
        "    sub_df.to_excel(filename,index=False)\n",
        "    print(sub_df.head())"
      ],
      "execution_count": 0,
      "outputs": []
    },
    {
      "cell_type": "markdown",
      "metadata": {
        "id": "BagpCYs5Ytje",
        "colab_type": "text"
      },
      "source": [
        "# Model Building"
      ]
    },
    {
      "cell_type": "code",
      "metadata": {
        "id": "JRAKFgsWYikX",
        "colab_type": "code",
        "colab": {}
      },
      "source": [
        "X=train.drop('class',axis=1)\n",
        "y=train['class']"
      ],
      "execution_count": 0,
      "outputs": []
    },
    {
      "cell_type": "code",
      "metadata": {
        "id": "NLXb5UNAYrz3",
        "colab_type": "code",
        "colab": {}
      },
      "source": [
        "from sklearn.linear_model import LogisticRegression\n",
        "from sklearn.svm import SVC\n",
        "from sklearn.ensemble import RandomForestClassifier,GradientBoostingClassifier, AdaBoostClassifier,VotingClassifier\n",
        "from sklearn.tree import DecisionTreeClassifier,plot_tree\n",
        "from xgboost import XGBClassifier\n",
        "from sklearn.metrics import confusion_matrix,accuracy_score,roc_auc_score,log_loss,make_scorer,classification_report\n",
        "from sklearn.model_selection import train_test_split, cross_val_score,GridSearchCV, RandomizedSearchCV"
      ],
      "execution_count": 0,
      "outputs": []
    },
    {
      "cell_type": "code",
      "metadata": {
        "id": "dMb9nJT1Y1aF",
        "colab_type": "code",
        "outputId": "83354a5e-6d4e-4ef9-a955-3244af32f4af",
        "colab": {
          "base_uri": "https://localhost:8080/",
          "height": 51
        }
      },
      "source": [
        "\n",
        "X_train,X_test,y_train,y_test=train_test_split(X,y,test_size=0.3,stratify=y)\n",
        "print(\"Shape of X_train:\",X_train.shape)\n",
        "print(\"Shape of X_test:\",X_test.shape)"
      ],
      "execution_count": 0,
      "outputs": [
        {
          "output_type": "stream",
          "text": [
            "Shape of X_train: (950, 15)\n",
            "Shape of X_test: (408, 15)\n"
          ],
          "name": "stdout"
        }
      ]
    },
    {
      "cell_type": "code",
      "metadata": {
        "id": "qiwj8GM-ZKXp",
        "colab_type": "code",
        "colab": {}
      },
      "source": [
        "\n",
        "model_scores={}\n",
        "\n",
        "def build_model(model,X_train,X_test,y_train,y_test):\n",
        "    model.fit(X_train,y_train)\n",
        "    y_pred=model.predict(X_test)\n",
        "    y_train_pred=model.predict(X_train)\n",
        "    \n",
        "    model_name = type(model).__name__\n",
        "    train_acc=accuracy_score(y_train,y_train_pred)\n",
        "    test_acc=accuracy_score(y_test,y_pred)\n",
        "    \n",
        "    print(confusion_matrix(y_test,y_pred))\n",
        "\n",
        "    print(classification_report(y_test,y_pred))\n",
        "    \n",
        "\n",
        "\n",
        "    \n",
        "    print(\"Training accuracy: : \",train_acc)\n",
        "    print(\"Testing  accuracy: : \",test_acc)\n",
        "    \n",
        "    cv_results=cross_val_score(model,X_train,y_train,cv=10,n_jobs=-1)\n",
        "    print(\"Cross validation:\", cv_results.mean())\n",
        "\n",
        "    cv_acc=cv_results.mean()\n",
        "    model_scores.setdefault(model_name,[train_acc,test_acc,cv_acc])\n",
        "\n",
        "\n",
        "\n",
        "    print(\"ROC_AUC-score:\",roc_auc_score(y_test,y_pred))"
      ],
      "execution_count": 0,
      "outputs": []
    },
    {
      "cell_type": "markdown",
      "metadata": {
        "id": "k8w1RKYcZu7_",
        "colab_type": "text"
      },
      "source": [
        "# Logistic Regression"
      ]
    },
    {
      "cell_type": "code",
      "metadata": {
        "id": "gx_BVKecZTQr",
        "colab_type": "code",
        "outputId": "defa2c42-7d8f-4504-9736-69a76800a862",
        "colab": {
          "base_uri": "https://localhost:8080/",
          "height": 272
        }
      },
      "source": [
        "from sklearn.preprocessing import StandardScaler\n",
        "std=StandardScaler()\n",
        "Xtr_std=std.fit_transform(X_train)\n",
        "Xte_std=std.transform(X_test)\n",
        "lr=LogisticRegression()\n",
        "build_model(lr,Xtr_std,Xte_std,y_train,y_test)"
      ],
      "execution_count": 0,
      "outputs": [
        {
          "output_type": "stream",
          "text": [
            "[[227  39]\n",
            " [ 34 108]]\n",
            "              precision    recall  f1-score   support\n",
            "\n",
            "           1       0.87      0.85      0.86       266\n",
            "           2       0.73      0.76      0.75       142\n",
            "\n",
            "    accuracy                           0.82       408\n",
            "   macro avg       0.80      0.81      0.80       408\n",
            "weighted avg       0.82      0.82      0.82       408\n",
            "\n",
            "Training accuracy: :  0.8336842105263158\n",
            "Testing  accuracy: :  0.821078431372549\n",
            "Cross validation: 0.8242105263157896\n",
            "ROC_AUC-score: 0.8069734194641534\n"
          ],
          "name": "stdout"
        }
      ]
    },
    {
      "cell_type": "code",
      "metadata": {
        "id": "fF8WGfEAZgd0",
        "colab_type": "code",
        "outputId": "93c691e1-b446-4f91-ecbb-eecd8aa145db",
        "colab": {
          "base_uri": "https://localhost:8080/",
          "height": 119
        }
      },
      "source": [
        "lr_preds=lr.predict_proba(std.transform(test))\n",
        "sub_file('23-05-lr.xlsx',lr_preds)"
      ],
      "execution_count": 0,
      "outputs": [
        {
          "output_type": "stream",
          "text": [
            "          1         2\n",
            "0  0.996013  0.003987\n",
            "1  0.139276  0.860724\n",
            "2  0.998029  0.001971\n",
            "3  0.993699  0.006301\n",
            "4  0.547032  0.452968\n"
          ],
          "name": "stdout"
        }
      ]
    },
    {
      "cell_type": "code",
      "metadata": {
        "id": "XRUwCoTNaaZM",
        "colab_type": "code",
        "outputId": "fdf092cb-cbef-4bd7-c8cf-1eab04c771aa",
        "colab": {
          "base_uri": "https://localhost:8080/",
          "height": 34
        }
      },
      "source": [
        "pd.read_excel('23-05-lr.xlsx').shape"
      ],
      "execution_count": 0,
      "outputs": [
        {
          "output_type": "execute_result",
          "data": {
            "text/plain": [
              "(583, 2)"
            ]
          },
          "metadata": {
            "tags": []
          },
          "execution_count": 41
        }
      ]
    },
    {
      "cell_type": "code",
      "metadata": {
        "id": "VQEnCHTNad3x",
        "colab_type": "code",
        "outputId": "3f29eb98-85c2-4040-c6da-54da81044b3b",
        "colab": {
          "base_uri": "https://localhost:8080/",
          "height": 272
        }
      },
      "source": [
        "xg=XGBClassifier(random_state=42)\n",
        "build_model(xg, X_train, X_test, y_train, y_test)"
      ],
      "execution_count": 0,
      "outputs": [
        {
          "output_type": "stream",
          "text": [
            "[[227  39]\n",
            " [ 28 114]]\n",
            "              precision    recall  f1-score   support\n",
            "\n",
            "           1       0.89      0.85      0.87       266\n",
            "           2       0.75      0.80      0.77       142\n",
            "\n",
            "    accuracy                           0.84       408\n",
            "   macro avg       0.82      0.83      0.82       408\n",
            "weighted avg       0.84      0.84      0.84       408\n",
            "\n",
            "Training accuracy: :  0.911578947368421\n",
            "Testing  accuracy: :  0.8357843137254902\n",
            "Cross validation: 0.851578947368421\n",
            "ROC_AUC-score: 0.8281001800275336\n"
          ],
          "name": "stdout"
        }
      ]
    },
    {
      "cell_type": "code",
      "metadata": {
        "id": "UowIOVAzcRv7",
        "colab_type": "code",
        "outputId": "0602ea58-3ae0-4d0e-9ce0-00187fecdb9c",
        "colab": {
          "base_uri": "https://localhost:8080/",
          "height": 119
        }
      },
      "source": [
        "xg_preds=xg.predict_proba(test)\n",
        "sub_file('23-05-xg.xlsx',xg_preds)"
      ],
      "execution_count": 0,
      "outputs": [
        {
          "output_type": "stream",
          "text": [
            "          1         2\n",
            "0  0.987151  0.012849\n",
            "1  0.267332  0.732668\n",
            "2  0.965910  0.034090\n",
            "3  0.990448  0.009552\n",
            "4  0.560002  0.439998\n"
          ],
          "name": "stdout"
        }
      ]
    },
    {
      "cell_type": "code",
      "metadata": {
        "id": "_yuFsG5-dk8L",
        "colab_type": "code",
        "colab": {}
      },
      "source": [
        ""
      ],
      "execution_count": 0,
      "outputs": []
    }
  ]
}